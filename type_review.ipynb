{
 "cells": [
  {
   "cell_type": "markdown",
   "id": "dc0c24be",
   "metadata": {},
   "source": [
    "# Review of `type` in Python"
   ]
  },
  {
   "cell_type": "markdown",
   "id": "1a3492b9-8d1d-40ff-83f2-5123d2992fff",
   "metadata": {},
   "source": [
    "This document contains **15 exercises, from basic to advanced,** to practice Python data types and the `type()` function."
   ]
  },
  {
   "cell_type": "markdown",
   "id": "948da7db-8193-4ece-8b52-3340a9779d34",
   "metadata": {},
   "source": [
    "## Basic level:"
   ]
  },
  {
   "cell_type": "markdown",
   "id": "5a43edda",
   "metadata": {},
   "source": [
    "### Exercise 1\n",
    "Ask the user to enter two integers, add them, and print the result."
   ]
  },
  {
   "cell_type": "code",
   "execution_count": 124,
   "id": "cca900cd",
   "metadata": {},
   "outputs": [
    {
     "name": "stdout",
     "output_type": "stream",
     "text": [
      "Please enter the first integer: 12\n",
      "Please enter the second integer: 135\n",
      "The sum of both numbers is: 147\n"
     ]
    }
   ],
   "source": [
    "def sum_two_integers() -> None:\n",
    "    \"\"\"\n",
    "    Prompt the user for two integers, add them and display the result.\n",
    "    \"\"\"\n",
    "    try:\n",
    "        first_number = int(input('Please enter the first integer: '))\n",
    "        second_number = int(input('Please enter the second integer: '))\n",
    "        sum_of_numbers = first_number + second_number\n",
    "        print(f'The sum of both numbers is: {sum_of_numbers}')\n",
    "    except ValueError:\n",
    "        print(\"Invalid input. Please enter valid integers only.\")\n",
    "        \n",
    "sum_two_integers()"
   ]
  },
  {
   "cell_type": "markdown",
   "id": "5341e395",
   "metadata": {},
   "source": [
    "### Exercise 2\n",
    "Define two float variables, multiply them and print the result rounded to 2 decimal places."
   ]
  },
  {
   "cell_type": "code",
   "execution_count": 125,
   "id": "bc0aa90c",
   "metadata": {},
   "outputs": [
    {
     "name": "stdout",
     "output_type": "stream",
     "text": [
      "Please enter the first float number: 3.513\n",
      "Please enter the second float number: 345.63\n",
      "The product of both numbers is: 1214.20\n"
     ]
    }
   ],
   "source": [
    "def product_two_floats() -> None:\n",
    "    \"\"\"\n",
    "    Prompt the user for two floats, multiply them and display the result.\n",
    "    \"\"\"\n",
    "    try:\n",
    "        first_float = float(input('Please enter the first float number: '))\n",
    "        second_float = float(input('Please enter the second float number: '))\n",
    "        product = round(first_float * second_float, 2)\n",
    "        print(f'The product of both numbers is: {product:.2f}')\n",
    "    except ValueError:\n",
    "        print(\"Invalid input. Please enter valid float numbers only.\")\n",
    "        \n",
    "product_two_floats()"
   ]
  },
  {
   "cell_type": "markdown",
   "id": "5a8d4f37",
   "metadata": {},
   "source": [
    "### Exercise 3\n",
    "Ask the user for their first name and last name, then display their full name."
   ]
  },
  {
   "cell_type": "code",
   "execution_count": 126,
   "id": "3127af74",
   "metadata": {},
   "outputs": [
    {
     "name": "stdout",
     "output_type": "stream",
     "text": [
      "Please enter your first name: Jaime\n",
      "Please enter your last name: Hernandez\n",
      "Hello, Jaime Hernandez!\n"
     ]
    }
   ],
   "source": [
    "# More professional\n",
    "def create_full_name() -> None:\n",
    "    \"\"\"\n",
    "    Prompt the user for their first name and last name, join them and display the full name.\n",
    "    \"\"\"\n",
    "    first_name = input('Please enter your first name: ').capitalize()\n",
    "    if not first_name.isalpha():\n",
    "        print('Please enter letters only.')\n",
    "        return \n",
    "    last_name = input('Please enter your last name: ').capitalize()\n",
    "    if not last_name.isalpha():\n",
    "        print('Please enter letters only.')\n",
    "        return \n",
    "    full_name = first_name + ' ' + last_name\n",
    "    print(f'Hello, {full_name}!')\n",
    "        \n",
    "create_full_name()"
   ]
  },
  {
   "cell_type": "markdown",
   "id": "811d93c8",
   "metadata": {},
   "source": [
    "### Exercise 4\n",
    "Create a variable age with an integer value and another variable is_adult that is True if age is 18 or older."
   ]
  },
  {
   "cell_type": "code",
   "execution_count": 127,
   "id": "5ec67126",
   "metadata": {},
   "outputs": [
    {
     "name": "stdout",
     "output_type": "stream",
     "text": [
      "Enter your age: 20\n",
      "You are an adult person.\n"
     ]
    }
   ],
   "source": [
    "def check_if_adult() -> None:\n",
    "    \"\"\"\n",
    "    Prompt the user for their age and display whether they are an adult.\n",
    "    \"\"\"\n",
    "    try:\n",
    "        age = int(input('Enter your age: '))\n",
    "        is_adult = age >= 18\n",
    "        if is_adult:\n",
    "            print('You are an adult.')\n",
    "        else:\n",
    "            print('You are still a minor.')\n",
    "    except ValueError:\n",
    "        print('Please enter a valid age.')\n",
    "        \n",
    "is_adult()"
   ]
  },
  {
   "cell_type": "markdown",
   "id": "86176e63",
   "metadata": {},
   "source": [
    "### Exercise 5\n",
    "Ask the user for a decimal number as a string, convert it to float and display its type before and after conversion."
   ]
  },
  {
   "cell_type": "code",
   "execution_count": 128,
   "id": "9276a9bd",
   "metadata": {},
   "outputs": [
    {
     "name": "stdout",
     "output_type": "stream",
     "text": [
      "Enter a decimal number: 0.49\n",
      "Type before conversion: str\n",
      "Type after conversion: float\n"
     ]
    }
   ],
   "source": [
    "def string_to_float() -> None:\n",
    "    \"\"\"\n",
    "    Prompt the user for a decimal number, show its type before and \n",
    "    after converting it to a float.\n",
    "    \"\"\"\n",
    "    try:\n",
    "        string_number = input('Enter a decimal number: ')\n",
    "        before_type = type(string_number).__name__\n",
    "        float_number = float(string_number)\n",
    "        after_type = type(float_number).__name__\n",
    "        print(f'Type before conversion: {before_type}')\n",
    "        print(f'Type after conversion: {after_type}')\n",
    "    except ValueError:\n",
    "        print('Invalid input. Please enter a valid decimal number.')\n",
    "\n",
    "string_to_float()"
   ]
  },
  {
   "cell_type": "markdown",
   "id": "5358da17",
   "metadata": {},
   "source": [
    "## Intermediate level"
   ]
  },
  {
   "cell_type": "markdown",
   "id": "a1c000ea",
   "metadata": {},
   "source": [
    "### Exercise 1\n",
    "Prompt the user for an integer and float. Convert them to the same type and print their sum **with 2 decimal places**. Show the type of the result."
   ]
  },
  {
   "cell_type": "code",
   "execution_count": 129,
   "id": "d2dee9d8",
   "metadata": {},
   "outputs": [
    {
     "name": "stdout",
     "output_type": "stream",
     "text": [
      "Enter an integer: 12\n",
      "Enter a float: 50\n",
      "The sum is: 62.00\n",
      "Type of the sum: float\n"
     ]
    }
   ],
   "source": [
    "def sum_floats() -> None:\n",
    "    \"\"\"\n",
    "    Prompt the user for one integer and one float numbers. Convert them to the same type and print the sum and its type.\n",
    "    \"\"\"\n",
    "    while True:\n",
    "        try:\n",
    "            integer = int(input('Enter an integer: '))\n",
    "            break\n",
    "        except ValueError:\n",
    "            print('Enter a proper integer.')\n",
    "    while True:\n",
    "        try:\n",
    "            float_number = float(input('Enter a float: '))\n",
    "            break\n",
    "        except ValueError:\n",
    "            print('Enter a proper float.')\n",
    "    float_integer = float(integer)\n",
    "    sum_numbers = float_integer + float_number\n",
    "    print(f'The sum is: {sum_numbers:.2f}')\n",
    "    print(f'Type of the sum: {type(sum_numbers).__name__}')\n",
    "    \n",
    "sum_floats()"
   ]
  },
  {
   "cell_type": "markdown",
   "id": "a6da2203",
   "metadata": {},
   "source": [
    "### Exercise 2\n",
    "Prompt fot tow numbers. Convert the to floats only if they're numeric, otherwise show an error. Divide the first by the second and print the type and result. Make sure you handle division by zero."
   ]
  },
  {
   "cell_type": "code",
   "execution_count": 130,
   "id": "dda03d91",
   "metadata": {},
   "outputs": [
    {
     "name": "stdout",
     "output_type": "stream",
     "text": [
      "Enter a float: 12.45\n",
      "Enter a second float: 1.245\n",
      "This is the result of the division: 9.999999999999998\n",
      "The type of the result is: float\n"
     ]
    }
   ],
   "source": [
    "def number_division() -> None:\n",
    "    \"\"\"\n",
    "    Prompt the user for two numbers, convert them to floats showing an error in case they are not numeric. Divide them and \n",
    "    display the result and the type.\n",
    "    \"\"\"\n",
    "    try:\n",
    "        first_number = float(input('Enter a float: '))\n",
    "        second_number = float(input('Enter a second float: '))\n",
    "    except ValueError:\n",
    "        print('You have to enter float numbers.')\n",
    "        return\n",
    "    try:\n",
    "        first_second_division = first_number / second_number\n",
    "        print(f'This is the result of the division: {first_second_division}')\n",
    "        print(f'The type of the result is: {type(first_second_division).__name__}')\n",
    "    except ZeroDivisionError:\n",
    "        print(\"You can't divide by zero.\")\n",
    "        return\n",
    "    \n",
    "number_division()"
   ]
  },
  {
   "cell_type": "markdown",
   "id": "488932b1",
   "metadata": {},
   "source": [
    "### Exercise 3\n",
    "Ask the user for a word. Convert the word into a list of characters and print its type. Also print the original type and the final type."
   ]
  },
  {
   "cell_type": "code",
   "execution_count": 131,
   "id": "8ff4db80",
   "metadata": {},
   "outputs": [
    {
     "name": "stdout",
     "output_type": "stream",
     "text": [
      "Enter a word: Life is life\n",
      "Original type: str\n",
      "Final type: list\n"
     ]
    },
    {
     "data": {
      "text/plain": [
       "['L', 'i', 'f', 'e', ' ', 'i', 's', ' ', 'l', 'i', 'f', 'e']"
      ]
     },
     "execution_count": 131,
     "metadata": {},
     "output_type": "execute_result"
    }
   ],
   "source": [
    "def list_string():\n",
    "    \"\"\"\n",
    "    Ask the user for a word, convert it into a list of characters and print the original and final type. Return the list.\n",
    "    \"\"\"\n",
    "    char_list =[]\n",
    "    word = input('Enter a word: ')\n",
    "    char_list = list(word)\n",
    "    print(f'Original type: {type(word).__name__}')\n",
    "    print(f'Final type: {type(char_list).__name__}')\n",
    "    return char_list\n",
    "    \n",
    "list_string()\n",
    "        "
   ]
  },
  {
   "cell_type": "markdown",
   "id": "f997dc03",
   "metadata": {},
   "source": [
    "### Exercise 4\n",
    "Write a function that accepts any input and prints:\n",
    "*  Its type name\n",
    "*  Its lenght if possible "
   ]
  },
  {
   "cell_type": "code",
   "execution_count": 132,
   "id": "f0d56d3f",
   "metadata": {},
   "outputs": [
    {
     "name": "stdout",
     "output_type": "stream",
     "text": [
      "['apple', 'float', 'tutu'] is a: list\n",
      "The length of ['apple', 'float', 'tutu'] is: 3\n"
     ]
    }
   ],
   "source": [
    "def type_analysis(x: object) -> None:\n",
    "    \"\"\"\n",
    "    Accept any input and display its type and length if possible.\n",
    "    \"\"\"\n",
    "    x_type = type(x).__name__\n",
    "    print(f'{x} is a: {x_type}')\n",
    "    try:\n",
    "        x_len = len(x)\n",
    "        print(f'The length of {x} is: {x_len}')\n",
    "    except TypeError:\n",
    "        print(f\"Cannot calculate the length of  a {x_type}.\")\n",
    "        \n",
    "type_analysis(['apple', 'float', 'tutu'])"
   ]
  },
  {
   "cell_type": "markdown",
   "id": "51b829a4",
   "metadata": {},
   "source": [
    "### Exercise 5\n",
    "Create a boolean variable `is_open` set to `True`. Use `not` to flip it. Print the type before and after flipping, plus the value."
   ]
  },
  {
   "cell_type": "code",
   "execution_count": 133,
   "id": "d4bbe1bf",
   "metadata": {},
   "outputs": [
    {
     "name": "stdout",
     "output_type": "stream",
     "text": [
      "Type before flipping: bool\n",
      " Type after flipping: bool\n",
      "Value after flipping: False\n"
     ]
    }
   ],
   "source": [
    "def flipping_boolean() -> None:\n",
    "    \"\"\"\n",
    "    Set a boolean variable to True, then flip its value using not and display its type before and after, plus the value.\n",
    "    \"\"\"\n",
    "    is_open = True\n",
    "    is_not_open = not is_open\n",
    "    print(f'Type before flipping: {type(is_open).__name__}')\n",
    "    print(f' Type after flipping: {type(is_not_open).__name__}')\n",
    "    print(f'Value after flipping: {is_not_open}')\n",
    "    \n",
    "flipping_boolean()"
   ]
  },
  {
   "cell_type": "markdown",
   "id": "877ba0da",
   "metadata": {},
   "source": [
    "## Advanced level"
   ]
  },
  {
   "cell_type": "markdown",
   "id": "4223bcf9",
   "metadata": {},
   "source": [
    "### Exercise 1\n",
    "Write a function `safe_calculator(a, b)` that:\n",
    "*  Accepts any two inputs.\n",
    "*  If both are numeric (`int` or `float`), adds them.\n",
    "*  If both are strings, concatenates them.\n",
    "*  Otherwise, raise a `TypeError` with a custom message.\n",
    "*  Display the type of the result."
   ]
  },
  {
   "cell_type": "code",
   "execution_count": 134,
   "id": "da1cb7ae",
   "metadata": {},
   "outputs": [
    {
     "name": "stdout",
     "output_type": "stream",
     "text": [
      "The sum of both arguments is: 32\n",
      "The type of the sum is: str\n"
     ]
    }
   ],
   "source": [
    "def safe_calculator(a, b) -> None:\n",
    "    \"\"\"\n",
    "    Take two arguments, if both are numeric add them, if both are strings\n",
    "    concatenate them. Display the result and its type.\n",
    "    \"\"\"\n",
    "    if isinstance(a, (int, float)) and isinstance(b, (int, float)):\n",
    "        result = a + b\n",
    "    elif isinstance(a, str) and isinstance(b, str):\n",
    "        result = a + b\n",
    "    else:\n",
    "        raise TypeError('Both arguments must be the same type.')\n",
    "    print(f'The sum of both arguments is: {result}')\n",
    "    print(f'The type of the sum is: {type(result).__name__}')\n",
    "    \n",
    "safe_calculator('3', '2')"
   ]
  },
  {
   "cell_type": "markdown",
   "id": "92f40b96",
   "metadata": {},
   "source": [
    "### Exercise 2\n",
    "Write a function that takes a list of mixed types.\n",
    "*  Try to **coerce** every element to an `int`.\n",
    "*  If it can't be coerced, skip it.\n",
    "*  Return a list of valid integers and show the final type."
   ]
  },
  {
   "cell_type": "code",
   "execution_count": 135,
   "id": "1afca811",
   "metadata": {},
   "outputs": [
    {
     "name": "stdout",
     "output_type": "stream",
     "text": [
      "The type of the result: list\n"
     ]
    },
    {
     "data": {
      "text/plain": [
       "[1, 3]"
      ]
     },
     "execution_count": 135,
     "metadata": {},
     "output_type": "execute_result"
    }
   ],
   "source": [
    "def coerce_list_int(input_list: list):\n",
    "    \"\"\"\n",
    "    Take a list, try to coerce every element to an int, if it can't be coerced,\n",
    "    skip it. Return a list of valid integers and display its type.\n",
    "    \"\"\"\n",
    "    integer_list = []\n",
    "    for element in input_list:\n",
    "        try: \n",
    "            integer_list.append(int(element))\n",
    "        except ValueError:\n",
    "            continue\n",
    "    print(f'The type of the result: {type(integer_list).__name__}')\n",
    "    return integer_list\n",
    "\n",
    "test = [1, 'a', 3.0, 'e']\n",
    "\n",
    "coerce_list_int(test)"
   ]
  },
  {
   "cell_type": "markdown",
   "id": "3a6c78e1",
   "metadata": {},
   "source": [
    "### Exercise 3\n",
    "Create a decorator `@type_check` that enforces that its decorated function only accepts arguments of specified types.\n",
    "\n",
    "`@type_check(str)`\n",
    "\n",
    "`def shout(text):`\n",
    "\n",
    "`return text.upper()`\n",
    "    \n",
    "*  If the type is wrong, raise `TypeError`.\n",
    "*  Test it with valid and invalid input."
   ]
  },
  {
   "cell_type": "code",
   "execution_count": 136,
   "id": "e4263152",
   "metadata": {},
   "outputs": [
    {
     "name": "stdout",
     "output_type": "stream",
     "text": [
      "HELLO\n",
      "Argument must be of type str\n"
     ]
    }
   ],
   "source": [
    "def type_check(expected_type):\n",
    "    \"\"\"\n",
    "    Decorator that enforces that the argument must be of the expected type.\n",
    "    \"\"\"\n",
    "    def decorator(func):\n",
    "        def wrapper(arg):\n",
    "            if not isinstance(arg, expected_type):\n",
    "                raise TypeError(f\"Argument must be of type {expected_type.__name__}\")\n",
    "            return func(arg)\n",
    "        return wrapper\n",
    "    return decorator\n",
    "\n",
    "\n",
    "@type_check(str)\n",
    "def shout(text):\n",
    "    return text.upper()\n",
    "\n",
    "print(shout(\"hello\"))  \n",
    "\n",
    "try:\n",
    "    print(shout(42))\n",
    "except TypeError as e:\n",
    "    print(e)\n"
   ]
  },
  {
   "cell_type": "markdown",
   "id": "a5563b5d",
   "metadata": {},
   "source": [
    "### Exercise 4\n",
    "Write a function that:\n",
    "*  Takes any object.\n",
    "*  Checks if it is sequence-like (i.e. supports `__len__` and `__getitem__`).\n",
    "*  If so print its type and length.\n",
    "*  If not print `\"Object is not sequence-like\"`."
   ]
  },
  {
   "cell_type": "code",
   "execution_count": 137,
   "id": "fbed50c9",
   "metadata": {},
   "outputs": [
    {
     "name": "stdout",
     "output_type": "stream",
     "text": [
      "Object is not sequence-like.\n"
     ]
    }
   ],
   "source": [
    "def is_sequence_like(x: object) -> None:\n",
    "    \"\"\"\n",
    "    Take any object, check if it is sequence-like if so print its type and \n",
    "    length, if not print a message.\n",
    "    \"\"\"\n",
    "    try:\n",
    "        length = len(x)\n",
    "        x[0]\n",
    "        print(f'The type of {x} is {type(x).__name__}')\n",
    "        print(f'The length of {x} is {length}')\n",
    "    except (TypeError, IndexError, KeyError):\n",
    "        print('Object is not sequence-like.')\n",
    "\n",
    "is_sequence_like({'a': 1, 'b': 2})"
   ]
  },
  {
   "cell_type": "markdown",
   "id": "9ec29e15",
   "metadata": {},
   "source": [
    "### Exercise 5\n",
    "Write a function that:\n",
    "*  Takes any object.\n",
    "*  Uses `dir()` and `hasattr()` to check whether the object has:\n",
    "  *  `__iter__`\n",
    "  *  `__call__`\n",
    "  *  `__len__`\n",
    "*  Print which special methods exists and what type the object is."
   ]
  },
  {
   "cell_type": "code",
   "execution_count": 138,
   "id": "d5f04900",
   "metadata": {},
   "outputs": [
    {
     "name": "stdout",
     "output_type": "stream",
     "text": [
      "Does object [1] have __iter__? -> True\n",
      "Does object [1] have __call__? -> False\n",
      "Does object [1] have __len__? -> True\n",
      "\n",
      "Available attributes:\n",
      "__add__\n",
      "__class__\n",
      "__class_getitem__\n",
      "__contains__\n",
      "__delattr__\n",
      "__delitem__\n",
      "__dir__\n",
      "__doc__\n",
      "__eq__\n",
      "__format__\n",
      "__ge__\n",
      "__getattribute__\n",
      "__getitem__\n",
      "__gt__\n",
      "__hash__\n",
      "__iadd__\n",
      "__imul__\n",
      "__init__\n",
      "__init_subclass__\n",
      "__iter__\n",
      "__le__\n",
      "__len__\n",
      "__lt__\n",
      "__mul__\n",
      "__ne__\n",
      "__new__\n",
      "__reduce__\n",
      "__reduce_ex__\n",
      "__repr__\n",
      "__reversed__\n",
      "__rmul__\n",
      "__setattr__\n",
      "__setitem__\n",
      "__sizeof__\n",
      "__str__\n",
      "__subclasshook__\n",
      "append\n",
      "clear\n",
      "copy\n",
      "count\n",
      "extend\n",
      "index\n",
      "insert\n",
      "pop\n",
      "remove\n",
      "reverse\n",
      "sort\n",
      "\n",
      "Its type is: list\n"
     ]
    }
   ],
   "source": [
    "def have_attr(x: object) -> None:\n",
    "    \"\"\"\n",
    "    Take any object, check whether the object has __iter__, __call__ and __len__\n",
    "    and display the special methods that exist and its type.\n",
    "    \"\"\"\n",
    "    poss_attr = ['__iter__', '__call__', '__len__']\n",
    "    for attr in poss_attr:\n",
    "        flag = hasattr(x, attr)\n",
    "        print(f'Does object {x} have {attr}? -> {flag}')\n",
    "    print('\\nAvailable attributes:')\n",
    "    for name in dir(x):\n",
    "        print(name)\n",
    "    print(f'\\nIts type is: {type(x).__name__}')\n",
    "    \n",
    "have_attr([1])"
   ]
  }
 ],
 "metadata": {
  "kernelspec": {
   "display_name": "Python 3 (ipykernel)",
   "language": "python",
   "name": "python3"
  },
  "language_info": {
   "codemirror_mode": {
    "name": "ipython",
    "version": 3
   },
   "file_extension": ".py",
   "mimetype": "text/x-python",
   "name": "python",
   "nbconvert_exporter": "python",
   "pygments_lexer": "ipython3",
   "version": "3.9.12"
  }
 },
 "nbformat": 4,
 "nbformat_minor": 5
}
