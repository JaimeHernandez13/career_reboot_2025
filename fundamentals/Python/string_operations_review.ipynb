{
 "cells": [
  {
   "cell_type": "markdown",
   "id": "dc0c24be",
   "metadata": {},
   "source": [
    "# Review of string operations in Python"
   ]
  },
  {
   "cell_type": "markdown",
   "id": "1a3492b9-8d1d-40ff-83f2-5123d2992fff",
   "metadata": {},
   "source": [
    "This document contains **15 exercises, from basic to advanced,** to practice Python string operations."
   ]
  },
  {
   "cell_type": "markdown",
   "id": "948da7db-8193-4ece-8b52-3340a9779d34",
   "metadata": {},
   "source": [
    "## Basic level:"
   ]
  },
  {
   "cell_type": "markdown",
   "id": "669cebd0",
   "metadata": {},
   "source": [
    "### Exercise 1\n",
    "Create a variable `name`with your first name. Print the string length using `len()`."
   ]
  },
  {
   "cell_type": "code",
   "execution_count": 19,
   "id": "74a12e45",
   "metadata": {},
   "outputs": [
    {
     "name": "stdout",
     "output_type": "stream",
     "text": [
      "The length of Jaime is: 5.\n"
     ]
    }
   ],
   "source": [
    "name = 'Jaime'\n",
    "\n",
    "print(f'The length of {name} is: {len(name)}.')"
   ]
  },
  {
   "cell_type": "markdown",
   "id": "63bc405b",
   "metadata": {},
   "source": [
    "### Exercise 2\n",
    "Create a variable `greeting` with the value `\"Hello\"` and another variable `name` with your name. Concatenate them with a space in between and print the result."
   ]
  },
  {
   "cell_type": "code",
   "execution_count": 20,
   "id": "e3560021",
   "metadata": {},
   "outputs": [
    {
     "name": "stdout",
     "output_type": "stream",
     "text": [
      "Hello Jaime\n"
     ]
    }
   ],
   "source": [
    "greeting = 'Hello' + ' ' + name\n",
    "\n",
    "print(greeting)"
   ]
  },
  {
   "cell_type": "markdown",
   "id": "e57fd254",
   "metadata": {},
   "source": [
    "### Exercise 3\n",
    "From the string `\"Python Programming\"`, extract and print the substring `\"Programming\"` using slicing."
   ]
  },
  {
   "cell_type": "code",
   "execution_count": 21,
   "id": "6621558f",
   "metadata": {},
   "outputs": [
    {
     "name": "stdout",
     "output_type": "stream",
     "text": [
      "Programming\n"
     ]
    }
   ],
   "source": [
    "string = 'Python Programming'\n",
    "\n",
    "print(string[-11:])"
   ]
  },
  {
   "cell_type": "code",
   "execution_count": 23,
   "id": "894065f9-a19b-42ee-bb8b-26f79ad794df",
   "metadata": {},
   "outputs": [
    {
     "name": "stdout",
     "output_type": "stream",
     "text": [
      "Programming\n"
     ]
    }
   ],
   "source": [
    "string_split = string.split(' ')\n",
    "\n",
    "print(string_split[1])"
   ]
  },
  {
   "cell_type": "markdown",
   "id": "cd79bdd6",
   "metadata": {},
   "source": [
    "### Exercise 4\n",
    "Convert the string `\"hello world\"` to **uppercase** and print the result."
   ]
  },
  {
   "cell_type": "code",
   "execution_count": 24,
   "id": "9b9c2d74",
   "metadata": {},
   "outputs": [
    {
     "name": "stdout",
     "output_type": "stream",
     "text": [
      "HELLO WORLD\n"
     ]
    }
   ],
   "source": [
    "string = 'hello world'\n",
    "string_upper = string.upper()\n",
    "\n",
    "print(string_upper)"
   ]
  },
  {
   "cell_type": "markdown",
   "id": "17139e25",
   "metadata": {},
   "source": [
    "### Exercise 5\n",
    "Convert the string `\"GOOD MORNING\"` to **lowercase** and print the result."
   ]
  },
  {
   "cell_type": "code",
   "execution_count": 25,
   "id": "2782db0e",
   "metadata": {},
   "outputs": [
    {
     "name": "stdout",
     "output_type": "stream",
     "text": [
      "good morning\n"
     ]
    }
   ],
   "source": [
    "string = 'GOOD MORNING'\n",
    "string_lower = string.lower()\n",
    "\n",
    "print(string_lower)"
   ]
  },
  {
   "cell_type": "markdown",
   "id": "a15d4139",
   "metadata": {},
   "source": [
    "## Intermediate level"
   ]
  },
  {
   "cell_type": "markdown",
   "id": "fb759c5a",
   "metadata": {},
   "source": [
    "### Exercise 1\n",
    "Check if the string `\"Data Science is fun\"` contains the word `\"fun\"`. Print `\"Yes\"`if it does or `\"No\"` otherwise."
   ]
  },
  {
   "cell_type": "code",
   "execution_count": 26,
   "id": "d8e2615f",
   "metadata": {},
   "outputs": [
    {
     "name": "stdout",
     "output_type": "stream",
     "text": [
      "Yes\n"
     ]
    }
   ],
   "source": [
    "string = 'Data Science is fun'\n",
    "\n",
    "if string.count('fun') > 0:\n",
    "    print('Yes')\n",
    "else:\n",
    "    print('No')"
   ]
  },
  {
   "cell_type": "markdown",
   "id": "cf76aab8",
   "metadata": {},
   "source": [
    "### Exercise 2\n",
    "Given the string `\"python programming\"`, capitalize only the **first letter** of the sentence and print the result."
   ]
  },
  {
   "cell_type": "code",
   "execution_count": 27,
   "id": "a08eadf2",
   "metadata": {},
   "outputs": [
    {
     "name": "stdout",
     "output_type": "stream",
     "text": [
      "Data science is fun\n"
     ]
    }
   ],
   "source": [
    "stirng = 'python programming'\n",
    "\n",
    "print(string.capitalize())"
   ]
  },
  {
   "cell_type": "markdown",
   "id": "87a51bce",
   "metadata": {},
   "source": [
    "### Exercise 3\n",
    "Take the string `\"Data-Driven-Decision-Making\"`and split into a list using the dash (`-`) as a separator. Then print only the **second element** of the list."
   ]
  },
  {
   "cell_type": "code",
   "execution_count": 28,
   "id": "e762992a",
   "metadata": {},
   "outputs": [
    {
     "name": "stdout",
     "output_type": "stream",
     "text": [
      "Driven\n"
     ]
    }
   ],
   "source": [
    "string = 'Data-Driven-Decision-Making'\n",
    "list_string = string.split('-')\n",
    "\n",
    "print(list_string[1])"
   ]
  },
  {
   "cell_type": "markdown",
   "id": "b4d23436",
   "metadata": {},
   "source": [
    "### Exercise 4\n",
    "Create a string with your full name (first and last name). Extract and print only the **initials** separted by a dot."
   ]
  },
  {
   "cell_type": "code",
   "execution_count": 30,
   "id": "d17e46fc",
   "metadata": {},
   "outputs": [
    {
     "name": "stdout",
     "output_type": "stream",
     "text": [
      "J. H.\n"
     ]
    }
   ],
   "source": [
    "full_name = 'Jaime Hernandez'\n",
    "list_full_name = full_name.split(' ')\n",
    "\n",
    "print(f'{list_full_name[0][0]}. {list_full_name[1][0]}.')"
   ]
  },
  {
   "cell_type": "markdown",
   "id": "a65362e2",
   "metadata": {},
   "source": [
    "### Exercise 5\n",
    "Ask the user for their email address. Extract and print the **username part**."
   ]
  },
  {
   "cell_type": "code",
   "execution_count": 31,
   "id": "136e30ca",
   "metadata": {},
   "outputs": [
    {
     "name": "stdin",
     "output_type": "stream",
     "text": [
      "Enter your email address:  papabos13@gmail.com\n"
     ]
    },
    {
     "name": "stdout",
     "output_type": "stream",
     "text": [
      "papabos13\n"
     ]
    }
   ],
   "source": [
    "mail = input('Enter your email address: ')\n",
    "user = mail.split('@')[0]\n",
    "\n",
    "print(user)"
   ]
  },
  {
   "cell_type": "markdown",
   "id": "e2c24d39",
   "metadata": {},
   "source": [
    "## Advanced level"
   ]
  },
  {
   "cell_type": "markdown",
   "id": "4611a8ca",
   "metadata": {},
   "source": [
    "### Exercise 1\n",
    "Write a function that checks if a string is a **palindrome**, ignoring spaces, punctuation and case."
   ]
  },
  {
   "cell_type": "code",
   "execution_count": 38,
   "id": "b724d389",
   "metadata": {},
   "outputs": [
    {
     "data": {
      "text/plain": [
       "True"
      ]
     },
     "execution_count": 38,
     "metadata": {},
     "output_type": "execute_result"
    }
   ],
   "source": [
    "def is_palindrome(text: str) -> bool:\n",
    "    \"\"\"\n",
    "    Check if the given text is a palindrome.\n",
    "    \"\"\"\n",
    "    text_clean = ''.join(char for char in text.lower() if char.isalnum())\n",
    "    return text_clean == text_clean[::-1]\n",
    "\n",
    "is_palindrome(\"A man, a plan, a canal: Panama\")"
   ]
  },
  {
   "cell_type": "markdown",
   "id": "8cc08118",
   "metadata": {},
   "source": [
    "### Exercise 2\n",
    "Extract all unique words form a paragraph, ignoring case and punctuation. Returt them sorted alphabetically."
   ]
  },
  {
   "cell_type": "code",
   "execution_count": 52,
   "id": "50078c04",
   "metadata": {},
   "outputs": [
    {
     "name": "stdout",
     "output_type": "stream",
     "text": [
      "['and', 'data', 'fun', 'go', 'hand', 'in', 'is', 'science']\n"
     ]
    }
   ],
   "source": [
    "import re\n",
    "\n",
    "text = \"Data science is fun! Science, data, and fun go hand in hand.\"\n",
    "text_split = re.split(r'[!?;,.:\\s]+', text.lower())\n",
    "unique_words = sorted(set(filter(None, text_split)))\n",
    "\n",
    "print(unique_words)"
   ]
  },
  {
   "cell_type": "code",
   "execution_count": 53,
   "id": "01aca66c-11bf-4078-8a87-703743444adf",
   "metadata": {},
   "outputs": [
    {
     "name": "stdout",
     "output_type": "stream",
     "text": [
      "['and', 'data', 'fun', 'go', 'hand', 'in', 'is', 'science']\n"
     ]
    }
   ],
   "source": [
    "import string\n",
    "\n",
    "text = \"Data science is fun! Science, data, and fun go hand in hand.\"\n",
    "translator = str.maketrans('', '', string.punctuation)\n",
    "text_clean = text.translate(translator)\n",
    "\n",
    "words = text_clean.lower().split()\n",
    "unique_words = sorted(set(words))\n",
    "\n",
    "print(unique_words)"
   ]
  },
  {
   "cell_type": "markdown",
   "id": "bd35930c",
   "metadata": {},
   "source": [
    "### Exercise 3\n",
    "Given a list of email addresses, write a function to **group them by domain** and return a dictionary."
   ]
  },
  {
   "cell_type": "code",
   "execution_count": 54,
   "id": "df97755e",
   "metadata": {},
   "outputs": [
    {
     "name": "stdout",
     "output_type": "stream",
     "text": [
      "{'gmail.com': ['alice', 'carol'], 'yahoo.com': ['bob', 'eve'], 'hotmail.com': ['dave']}\n"
     ]
    }
   ],
   "source": [
    "def dict_domains_mails(mail_addresses: list) -> dict:\n",
    "    \"\"\"\n",
    "    Takes a list of email addresses and returns a dictionary where the keys are domains\n",
    "    and the values are lists of usernames associated with each domain.\n",
    "    \"\"\"\n",
    "    domain_dict = {}\n",
    "\n",
    "    for mail in mail_addresses:\n",
    "        user, domain = mail.split('@')\n",
    "        if domain not in domain_dict:\n",
    "            domain_dict[domain] = []\n",
    "        domain_dict[domain].append(user)\n",
    "\n",
    "    return domain_dict\n",
    "\n",
    "# Example usage:\n",
    "emails = [\n",
    "    \"alice@gmail.com\", \n",
    "    \"bob@yahoo.com\", \n",
    "    \"carol@gmail.com\", \n",
    "    \"dave@hotmail.com\", \n",
    "    \"eve@yahoo.com\"\n",
    "]\n",
    "\n",
    "print(dict_domains_mails(emails))"
   ]
  },
  {
   "cell_type": "markdown",
   "id": "2dc90b5d",
   "metadata": {},
   "source": [
    "### Exercise 4\n",
    "Use **regular expressions** to extract all dates from a string. The format can be `dd/mm/yy` or `dd-mm-yy`."
   ]
  },
  {
   "cell_type": "code",
   "execution_count": 63,
   "id": "9f52c24b",
   "metadata": {},
   "outputs": [
    {
     "name": "stdout",
     "output_type": "stream",
     "text": [
      "['12/05/2023', '07-06-2022']\n"
     ]
    }
   ],
   "source": [
    "import re\n",
    "\n",
    "sample_text = \"\"\"\n",
    "The event is scheduled for 12/05/2023. Another meeting is on 07-06-2022.\n",
    "A third date like 5/3/2020 won't match, and 30.04.2021 shouldn't either.\n",
    "\"\"\"\n",
    "\n",
    "pattern = r'\\b\\d{2}[-/]\\d{2}[/-]\\d{4}\\b'\n",
    "dates = re.findall(pattern, sample_text)\n",
    "\n",
    "print(dates)"
   ]
  },
  {
   "cell_type": "code",
   "execution_count": 66,
   "id": "f606ff58-e42e-41ca-b1b3-a17778634850",
   "metadata": {},
   "outputs": [
    {
     "name": "stdout",
     "output_type": "stream",
     "text": [
      "['apple']\n"
     ]
    }
   ],
   "source": [
    "text = 'apple, applepum. appleflair'\n",
    "\n",
    "pattern = r'apple\\b'\n",
    "print(re.findall(pattern, text))"
   ]
  },
  {
   "cell_type": "markdown",
   "id": "c49b83f6",
   "metadata": {},
   "source": [
    "### Exercise 5\n",
    "Write a function that counts how many vowels, consonants, digits and special characters are in a string."
   ]
  },
  {
   "cell_type": "code",
   "execution_count": 70,
   "id": "13cfbf96",
   "metadata": {},
   "outputs": [
    {
     "name": "stdout",
     "output_type": "stream",
     "text": [
      "{'vowels': 3, 'consonants': 7, 'digits': 3, 'special_characters': 3}\n"
     ]
    }
   ],
   "source": [
    "def count_type_chars(text: str) -> dict:\n",
    "    \"\"\"\n",
    "    Count how many number of vowels, consonants, digits and special characters are in a string,\n",
    "    \"\"\"\n",
    "    counts = {\n",
    "        'vowels': 0, \n",
    "        'consonants': 0, \n",
    "        'digits': 0, \n",
    "        'special_characters': 0\n",
    "    }\n",
    "    \n",
    "    for char in text.lower():\n",
    "        if char.isalpha():\n",
    "            if char in 'aeiou':\n",
    "                counts['vowels'] += 1 \n",
    "            else:\n",
    "                counts['consonants'] += 1\n",
    "        elif char.isdigit():\n",
    "            counts['digits'] += 1\n",
    "        elif not char.isspace():\n",
    "            counts['special_characters'] += 1\n",
    "\n",
    "    return counts\n",
    "\n",
    "example = \"Hello World! 123 :)\"\n",
    "print(count_type_chars(example))"
   ]
  }
 ],
 "metadata": {
  "kernelspec": {
   "display_name": "Python 3 (ipykernel)",
   "language": "python",
   "name": "python3"
  },
  "language_info": {
   "codemirror_mode": {
    "name": "ipython",
    "version": 3
   },
   "file_extension": ".py",
   "mimetype": "text/x-python",
   "name": "python",
   "nbconvert_exporter": "python",
   "pygments_lexer": "ipython3",
   "version": "3.13.5"
  }
 },
 "nbformat": 4,
 "nbformat_minor": 5
}
