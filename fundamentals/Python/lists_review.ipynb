{
 "cells": [
  {
   "cell_type": "markdown",
   "id": "dc0c24be",
   "metadata": {},
   "source": [
    "# Review of lists in Python"
   ]
  },
  {
   "cell_type": "markdown",
   "id": "1a3492b9-8d1d-40ff-83f2-5123d2992fff",
   "metadata": {},
   "source": [
    "This document contains **15 exercises, from basic to advanced,** to practice Python lists."
   ]
  },
  {
   "cell_type": "markdown",
   "id": "948da7db-8193-4ece-8b52-3340a9779d34",
   "metadata": {},
   "source": [
    "## Basic level:"
   ]
  },
  {
   "cell_type": "markdown",
   "id": "669cebd0",
   "metadata": {},
   "source": [
    "### Exercise 1\n",
    "Create a list named `fruits` that contains the following ellements: 'apple', 'banana', 'cherry', 'date'."
   ]
  },
  {
   "cell_type": "code",
   "execution_count": 2,
   "id": "74a12e45",
   "metadata": {},
   "outputs": [
    {
     "name": "stdout",
     "output_type": "stream",
     "text": [
      "['apple', 'banana', 'cherry', 'date']\n"
     ]
    }
   ],
   "source": [
    "fruits = ['apple', 'banana', 'cherry', 'date']\n",
    "\n",
    "print(fruits)"
   ]
  },
  {
   "cell_type": "markdown",
   "id": "63bc405b",
   "metadata": {},
   "source": [
    "### Exercise 2\n",
    "From the `fruits` list, print the last item using a negative index."
   ]
  },
  {
   "cell_type": "code",
   "execution_count": 6,
   "id": "e3560021",
   "metadata": {},
   "outputs": [
    {
     "name": "stdout",
     "output_type": "stream",
     "text": [
      "This is the last item in fruits: date\n"
     ]
    }
   ],
   "source": [
    "print(f'This is the last item in fruits: {fruits[-1]}')"
   ]
  },
  {
   "cell_type": "markdown",
   "id": "e57fd254",
   "metadata": {},
   "source": [
    "### Exercise 3\n",
    "From the `fruits` list, print the second item ('banana')."
   ]
  },
  {
   "cell_type": "code",
   "execution_count": 7,
   "id": "6621558f",
   "metadata": {},
   "outputs": [
    {
     "name": "stdout",
     "output_type": "stream",
     "text": [
      "banana\n"
     ]
    }
   ],
   "source": [
    "banana_index = fruits.index('banana')\n",
    "\n",
    "print(fruits[banana_index])"
   ]
  },
  {
   "cell_type": "markdown",
   "id": "cd79bdd6",
   "metadata": {},
   "source": [
    "### Exercise 4\n",
    "Create a new list called `first_fruits` that contains the first two items from the `fruits` list."
   ]
  },
  {
   "cell_type": "code",
   "execution_count": 8,
   "id": "9b9c2d74",
   "metadata": {},
   "outputs": [],
   "source": [
    "first_fruits = fruits[:2]"
   ]
  },
  {
   "cell_type": "markdown",
   "id": "17139e25",
   "metadata": {},
   "source": [
    "### Exercise 5\n",
    "Add 'strawberry' to the end of the fruits list."
   ]
  },
  {
   "cell_type": "code",
   "execution_count": 9,
   "id": "2782db0e",
   "metadata": {},
   "outputs": [],
   "source": [
    "fruits.append('strawberry')"
   ]
  },
  {
   "cell_type": "markdown",
   "id": "a15d4139",
   "metadata": {},
   "source": [
    "## Intermediate level"
   ]
  },
  {
   "cell_type": "markdown",
   "id": "fb759c5a",
   "metadata": {},
   "source": [
    "### Exercise 1\n",
    "Given two lists, `list_a = [1, 2, 3, 4, 5]` and `list_b = [4, 5, 6, 7, 8]`, create a new list that contains only the elements that are common to both lists."
   ]
  },
  {
   "cell_type": "code",
   "execution_count": 19,
   "id": "d8e2615f",
   "metadata": {},
   "outputs": [
    {
     "name": "stdout",
     "output_type": "stream",
     "text": [
      "[4, 5]\n"
     ]
    }
   ],
   "source": [
    "list_a = [1, 2, 3, 4, 5]\n",
    "list_b = [4, 5, 6, 7, 8]\n",
    "\n",
    "set_a = set(list_a)\n",
    "set_b = set(list_b)\n",
    "\n",
    "list_c = list(set_a.intersection(set_b))\n",
    "\n",
    "print(list_c)"
   ]
  },
  {
   "cell_type": "code",
   "execution_count": 21,
   "id": "076810c7-2ca7-44cc-967a-96063d64dacc",
   "metadata": {},
   "outputs": [
    {
     "name": "stdout",
     "output_type": "stream",
     "text": [
      "[4, 5]\n"
     ]
    }
   ],
   "source": [
    "list_c_2 = [element for element in list_a if element in list_b]\n",
    "\n",
    "print(list_c_2)"
   ]
  },
  {
   "cell_type": "markdown",
   "id": "cf76aab8",
   "metadata": {},
   "source": [
    "### Exercise 2\n",
    "Given a list with duplicate values, `my_list = [10, 20, 30, 20, 10, 50, 60, 40, 80, 50, 40]`, create a new list that contains the unique elements from the original list, while preserving the original order."
   ]
  },
  {
   "cell_type": "code",
   "execution_count": 17,
   "id": "a08eadf2",
   "metadata": {},
   "outputs": [
    {
     "name": "stdout",
     "output_type": "stream",
     "text": [
      "[10, 20, 30, 50, 60, 40, 80]\n"
     ]
    }
   ],
   "source": [
    "my_list = [10, 20, 30, 20, 10, 50, 60, 40, 80, 50, 40]\n",
    "\n",
    "unique_my_list =[]\n",
    "\n",
    "for item in my_list:\n",
    "    if item not in unique_my_list:\n",
    "        unique_my_list.append(item)\n",
    "        \n",
    "print(unique_my_list)"
   ]
  },
  {
   "cell_type": "code",
   "execution_count": 18,
   "id": "8e02970b-a00b-46d5-9148-cc1021ec61ef",
   "metadata": {},
   "outputs": [
    {
     "name": "stdout",
     "output_type": "stream",
     "text": [
      "[10, 20, 30, 50, 60, 40, 80]\n"
     ]
    }
   ],
   "source": [
    "unique_list = list(dict.fromkeys(my_list))\n",
    "\n",
    "print(unique_list)"
   ]
  },
  {
   "cell_type": "markdown",
   "id": "87a51bce",
   "metadata": {},
   "source": [
    "### Exercise 3\n",
    "You have a list of numbers, `numbers = [1, 2, 3, 4, 5, 6]`. Use a **list comprehension** to create a new list containing the square of each number, but only if the square is greater than 20."
   ]
  },
  {
   "cell_type": "code",
   "execution_count": 25,
   "id": "e762992a",
   "metadata": {},
   "outputs": [
    {
     "name": "stdout",
     "output_type": "stream",
     "text": [
      "[25, 36]\n"
     ]
    }
   ],
   "source": [
    "numbers = [1, 2, 3, 4, 5, 6]\n",
    "\n",
    "numbers_squared = [square for x in numbers if (square := x**2) > 20]\n",
    "\n",
    "print(numbers_squared)"
   ]
  },
  {
   "cell_type": "markdown",
   "id": "b4d23436",
   "metadata": {},
   "source": [
    "### Exercise 4\n",
    "Given a nested list(a \"matrix\"), `matrix = [[1, 2, 3], [4, 5, 6], [7, 8, 9]]`, access and print the number `6`."
   ]
  },
  {
   "cell_type": "code",
   "execution_count": 23,
   "id": "d17e46fc",
   "metadata": {},
   "outputs": [
    {
     "name": "stdout",
     "output_type": "stream",
     "text": [
      "6\n"
     ]
    }
   ],
   "source": [
    "matrix = [[1, 2, 3], [4, 5, 6], [7, 8, 9]]\n",
    "\n",
    "print(matrix[1][2])"
   ]
  },
  {
   "cell_type": "markdown",
   "id": "a65362e2",
   "metadata": {},
   "source": [
    "### Exercise 5\n",
    "You havce a list of strings: `words = ['banana', 'pie', 'Washington', 'book']`. Sort this list in-place based on the length of each string, from shortest to longest."
   ]
  },
  {
   "cell_type": "code",
   "execution_count": 26,
   "id": "136e30ca",
   "metadata": {},
   "outputs": [
    {
     "name": "stdout",
     "output_type": "stream",
     "text": [
      "['pie', 'book', 'banana', 'Washington']\n"
     ]
    }
   ],
   "source": [
    "words = ['banana', 'pie', 'Washington', 'book']\n",
    "\n",
    "words.sort(key = len)\n",
    "\n",
    "print(words)"
   ]
  },
  {
   "cell_type": "markdown",
   "id": "e2c24d39",
   "metadata": {},
   "source": [
    "## Advanced level"
   ]
  },
  {
   "cell_type": "markdown",
   "id": "4611a8ca",
   "metadata": {},
   "source": [
    "### Exercise 1\n",
    "You have a list of dictionaries. Sort this list in-place based on the `age` of each person in ascending order. If two people have the same age, sort them by `name` alphabetically."
   ]
  },
  {
   "cell_type": "code",
   "execution_count": 39,
   "id": "b724d389",
   "metadata": {},
   "outputs": [
    {
     "name": "stdout",
     "output_type": "stream",
     "text": [
      "[{'name': 'Anna', 'age': 24, 'city': 'Paris'}, {'name': 'Liz', 'age': 24, 'city': 'Tokyo'}, {'name': 'John', 'age': 30, 'city': 'New York'}, {'name': 'Mike', 'age': 30, 'city': 'London'}, {'name': 'Peter', 'age': 35, 'city': 'New York'}]\n"
     ]
    }
   ],
   "source": [
    "people = [\n",
    "    {'name': 'John', 'age': 30, 'city': 'New York'},\n",
    "    {'name': 'Anna', 'age': 24, 'city': 'Paris'},\n",
    "    {'name': 'Mike', 'age': 30, 'city': 'London'},\n",
    "    {'name': 'Liz', 'age': 24, 'city': 'Tokyo'},\n",
    "    {'name': 'Peter', 'age': 35, 'city': 'New York'}\n",
    "]\n",
    "\n",
    "people.sort(key = lambda person: (person['age'], person['name']))\n",
    "\n",
    "print(people)"
   ]
  },
  {
   "cell_type": "markdown",
   "id": "8cc08118",
   "metadata": {},
   "source": [
    "### Exercise 2\n",
    "Given the `people` list from the previous exercise, create a dictionary where the keys are city names and the values are lists of names of the people living in that city."
   ]
  },
  {
   "cell_type": "code",
   "execution_count": 40,
   "id": "50078c04",
   "metadata": {},
   "outputs": [
    {
     "name": "stdout",
     "output_type": "stream",
     "text": [
      "{'Paris': ['Anna'], 'Tokyo': ['Liz'], 'New York': ['John', 'Peter'], 'London': ['Mike']}\n"
     ]
    }
   ],
   "source": [
    "names_living_dict = {}\n",
    "\n",
    "for person in people:\n",
    "    if person['city'] in names_living_dict.keys():\n",
    "        names_living_dict[person['city']].append(person['name'])\n",
    "    else:\n",
    "        names_living_dict[person['city']] = [person['name']]\n",
    "        \n",
    "print(names_living_dict)"
   ]
  },
  {
   "cell_type": "markdown",
   "id": "bd35930c",
   "metadata": {},
   "source": [
    "### Exercise 3\n",
    "Write a function that takes a matrix (a list of lists with uniform length) and return its transpose. The transpose flips the matrix over its main diagonal."
   ]
  },
  {
   "cell_type": "code",
   "execution_count": 47,
   "id": "df97755e",
   "metadata": {},
   "outputs": [
    {
     "name": "stdout",
     "output_type": "stream",
     "text": [
      "[[1, 4], [2, 5], [3, 6]]\n"
     ]
    }
   ],
   "source": [
    "def matrix_transpose(matrix: list) -> list:\n",
    "    \"\"\"\n",
    "    Takes a matrix and transposes it.\n",
    "    \"\"\"\n",
    "    # Unpack the rows and zip them to group by columns\n",
    "    transposed_tuples = zip(*matrix)\n",
    "    \n",
    "    return [list(col) for col in transposed_tuples]\n",
    "\n",
    "matrix = [[1, 2, 3], [4, 5, 6]]\n",
    "print(matrix_transpose(matrix))"
   ]
  },
  {
   "cell_type": "markdown",
   "id": "2dc90b5d",
   "metadata": {},
   "source": [
    "### Exercise 4\n",
    "Given a list of unique numbers `num` and a target `target`, find a pair of numbers in the list that add up to the target. Return the pair as a tuple. The solution should be efficiente, ideally **O(n)**."
   ]
  },
  {
   "cell_type": "code",
   "execution_count": 58,
   "id": "9f52c24b",
   "metadata": {},
   "outputs": [
    {
     "name": "stdout",
     "output_type": "stream",
     "text": [
      "(2, 7)\n"
     ]
    }
   ],
   "source": [
    "def find_sum_pair(num: list, target: int):\n",
    "    \"\"\"\n",
    "    Finds a pair of numbers that sum to a target in O(n) time,\n",
    "    \"\"\"\n",
    "    seen = set()\n",
    "    \n",
    "    for number in num:\n",
    "        complement = target - number\n",
    "        if complement in seen:\n",
    "            return (complement, number)  \n",
    "        seen.add(number)\n",
    "            \n",
    "    return 'No pair found'\n",
    "\n",
    "print(find_sum_pair([2, 7, 11, 15], 9))"
   ]
  },
  {
   "cell_type": "markdown",
   "id": "c49b83f6",
   "metadata": {},
   "source": [
    "### Exercise 5\n",
    "Write a function that takes two sorted lists and merges them into a single sorted list. Your solution should be efficient, ideally running in **O(n+m)** time, where `n` and `m` are the lengths of the two lists."
   ]
  },
  {
   "cell_type": "code",
   "execution_count": null,
   "id": "13cfbf96",
   "metadata": {},
   "outputs": [],
   "source": [
    "def merge_sorted_lists(input_list_1: list, input_list_2: list) -> list:\n",
    "    \"\"\"\n",
    "    Merges two sorted lists in O(n+m) time.\n",
    "    \"\"\"\n",
    "    merged_list =  []\n",
    "    i, j = 0, 0\n",
    "    \n",
    "    while i < len(input_list_1) and j < len(input_list_2):\n",
    "        if input_list_1[i] < input_list_2[j]:\n",
    "            merged_list.append(input_list_1[i])\n",
    "            i += 1\n",
    "        else:\n",
    "            merged_list.append(input_list_2[j])\n",
    "            j += 1\n",
    "    \n",
    "    merged_list.extend(input_list_1[i:])\n",
    "    merged_list.extend(input_list_2[j:])\n",
    "    \n",
    "    return merged_list\n",
    "  \n",
    "\n",
    "print(merge_sorted_lists([1, 3, 5], [2, 4, 6, 8]))\n"
   ]
  }
 ],
 "metadata": {
  "kernelspec": {
   "display_name": "Python 3 (ipykernel)",
   "language": "python",
   "name": "python3"
  },
  "language_info": {
   "codemirror_mode": {
    "name": "ipython",
    "version": 3
   },
   "file_extension": ".py",
   "mimetype": "text/x-python",
   "name": "python",
   "nbconvert_exporter": "python",
   "pygments_lexer": "ipython3",
   "version": "3.9.12"
  }
 },
 "nbformat": 4,
 "nbformat_minor": 5
}
