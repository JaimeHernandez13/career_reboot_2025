{
 "cells": [
  {
   "cell_type": "markdown",
   "id": "dc0c24be",
   "metadata": {},
   "source": [
    "# Review of expressions and variables in Python"
   ]
  },
  {
   "cell_type": "markdown",
   "id": "1a3492b9-8d1d-40ff-83f2-5123d2992fff",
   "metadata": {},
   "source": [
    "This document contains **15 exercises, from basic to advanced,** to practice Python expressions and variables."
   ]
  },
  {
   "cell_type": "markdown",
   "id": "948da7db-8193-4ece-8b52-3340a9779d34",
   "metadata": {},
   "source": [
    "## Basic level:"
   ]
  },
  {
   "cell_type": "markdown",
   "id": "669cebd0",
   "metadata": {},
   "source": [
    "### Exercise 1\n",
    "Create a variable called `a`and assign it the result of `5 + 7`. Print `a`."
   ]
  },
  {
   "cell_type": "code",
   "execution_count": 139,
   "id": "74a12e45",
   "metadata": {},
   "outputs": [
    {
     "name": "stdout",
     "output_type": "stream",
     "text": [
      "12\n"
     ]
    }
   ],
   "source": [
    "a = 5 + 7\n",
    "print(a)"
   ]
  },
  {
   "cell_type": "markdown",
   "id": "63bc405b",
   "metadata": {},
   "source": [
    "### Exercise 2\n",
    "Create a variable called `b` and assign it the result of `20 - 4`. Print `b`."
   ]
  },
  {
   "cell_type": "code",
   "execution_count": 140,
   "id": "e3560021",
   "metadata": {},
   "outputs": [
    {
     "name": "stdout",
     "output_type": "stream",
     "text": [
      "16\n"
     ]
    }
   ],
   "source": [
    "b = 20 - 4\n",
    "print(b)"
   ]
  },
  {
   "cell_type": "markdown",
   "id": "e57fd254",
   "metadata": {},
   "source": [
    "### Exercise 3\n",
    "Create a variable called `c` and assign it the result of `3 * 8`. Print `c`."
   ]
  },
  {
   "cell_type": "code",
   "execution_count": 141,
   "id": "6621558f",
   "metadata": {},
   "outputs": [
    {
     "name": "stdout",
     "output_type": "stream",
     "text": [
      "24\n"
     ]
    }
   ],
   "source": [
    "c = 3 * 8\n",
    "print(c)"
   ]
  },
  {
   "cell_type": "markdown",
   "id": "cd79bdd6",
   "metadata": {},
   "source": [
    "### Exercise 4\n",
    "Create a variable called `d` and assign it the result of `40 / 5`. Print `d`."
   ]
  },
  {
   "cell_type": "code",
   "execution_count": 142,
   "id": "9b9c2d74",
   "metadata": {},
   "outputs": [
    {
     "name": "stdout",
     "output_type": "stream",
     "text": [
      "8.0\n"
     ]
    }
   ],
   "source": [
    "d = 40 / 5\n",
    "print(d)"
   ]
  },
  {
   "cell_type": "markdown",
   "id": "17139e25",
   "metadata": {},
   "source": [
    "### Exercise 5\n",
    "Use integer division to divide `17` by `3`and store the result in a variable `e`. Print `e`."
   ]
  },
  {
   "cell_type": "code",
   "execution_count": 143,
   "id": "2782db0e",
   "metadata": {},
   "outputs": [
    {
     "name": "stdout",
     "output_type": "stream",
     "text": [
      "5\n"
     ]
    }
   ],
   "source": [
    "e = 17 // 3\n",
    "print(e)"
   ]
  },
  {
   "cell_type": "markdown",
   "id": "a15d4139",
   "metadata": {},
   "source": [
    "## Intermediate level"
   ]
  },
  {
   "cell_type": "markdown",
   "id": "fb759c5a",
   "metadata": {},
   "source": [
    "### Exercise 1\n",
    "Calculate the remainder when 245 is divided by 13. Store it in `remainder` and print it."
   ]
  },
  {
   "cell_type": "code",
   "execution_count": 1,
   "id": "d8e2615f",
   "metadata": {},
   "outputs": [
    {
     "name": "stdout",
     "output_type": "stream",
     "text": [
      "11\n"
     ]
    }
   ],
   "source": [
    "remainder = 245 % 13\n",
    "print(remainder)"
   ]
  },
  {
   "cell_type": "markdown",
   "id": "cf76aab8",
   "metadata": {},
   "source": [
    "### Exercise 2\n",
    "Convert 3 hours and 45 minutes into total minutes. Store it in `total_minutes` and print it."
   ]
  },
  {
   "cell_type": "code",
   "execution_count": 3,
   "id": "a08eadf2",
   "metadata": {},
   "outputs": [
    {
     "name": "stdout",
     "output_type": "stream",
     "text": [
      "225\n"
     ]
    }
   ],
   "source": [
    "hours = 3\n",
    "minutes = 45\n",
    "total_minutes = hours * 60 + minutes\n",
    "print(total_minutes)"
   ]
  },
  {
   "cell_type": "markdown",
   "id": "87a51bce",
   "metadata": {},
   "source": [
    "### Exercise 3\n",
    "Calculate the average of five test scores: 87, 92, 76, 81 and 95. Store in `average_score`."
   ]
  },
  {
   "cell_type": "code",
   "execution_count": 5,
   "id": "e762992a",
   "metadata": {},
   "outputs": [
    {
     "name": "stdout",
     "output_type": "stream",
     "text": [
      "The mean of the test scores is: 86.2\n"
     ]
    }
   ],
   "source": [
    "import numpy as np\n",
    "\n",
    "test_scores = [87, 92, 76, 81, 95]\n",
    "array_test_scores = np.array(test_scores)\n",
    "average_score = np.mean(array_test_scores)\n",
    "print(f'The mean of the test scores is: {average_score}')"
   ]
  },
  {
   "cell_type": "markdown",
   "id": "b4d23436",
   "metadata": {},
   "source": [
    "### Exercise 4\n",
    "Using compound assignment, increase the value of `points`by 50, then multiply by 2. Print final value."
   ]
  },
  {
   "cell_type": "code",
   "execution_count": 6,
   "id": "d17e46fc",
   "metadata": {},
   "outputs": [
    {
     "name": "stdout",
     "output_type": "stream",
     "text": [
      "300\n"
     ]
    }
   ],
   "source": [
    "points = 100\n",
    "points += 50\n",
    "points *= 2\n",
    "print(points)"
   ]
  },
  {
   "cell_type": "markdown",
   "id": "a65362e2",
   "metadata": {},
   "source": [
    "### Exercise 5\n",
    "Suppose a user runs 7 km each day for 4 days. Calculate total kilometers run in a week."
   ]
  },
  {
   "cell_type": "code",
   "execution_count": 7,
   "id": "136e30ca",
   "metadata": {},
   "outputs": [
    {
     "name": "stdout",
     "output_type": "stream",
     "text": [
      "Total kilometers run in a week: 28\n"
     ]
    }
   ],
   "source": [
    "km_day = 7\n",
    "days = 4\n",
    "km_week = days * km_day\n",
    "print(f'Total kilometers run in a week: {km_week}')"
   ]
  },
  {
   "cell_type": "markdown",
   "id": "e2c24d39",
   "metadata": {},
   "source": [
    "## Advanced level"
   ]
  },
  {
   "cell_type": "markdown",
   "id": "4611a8ca",
   "metadata": {},
   "source": [
    "### Exercise 1\n",
    "Create a NumPy array with the finish times (in seconds) of 5 runners in a race. Convert these times to minutes (as floats) and store them in a new array."
   ]
  },
  {
   "cell_type": "code",
   "execution_count": 5,
   "id": "b724d389",
   "metadata": {},
   "outputs": [
    {
     "name": "stdout",
     "output_type": "stream",
     "text": [
      "[0.86666667 2.05       5.86666667 1.3       ]\n"
     ]
    }
   ],
   "source": [
    "import numpy as np\n",
    "\n",
    "finish_times_s = np.array([52, 123, 352, 78])\n",
    "finish_times_m = finish_times_s / 60\n",
    "\n",
    "print(finish_times_m)"
   ]
  },
  {
   "cell_type": "markdown",
   "id": "8cc08118",
   "metadata": {},
   "source": [
    "### Exercise 2\n",
    "Using the compound interest formula, calculate the future value of an investment of €1000 at 5% annual interest over 10 years."
   ]
  },
  {
   "cell_type": "code",
   "execution_count": 8,
   "id": "50078c04",
   "metadata": {},
   "outputs": [
    {
     "name": "stdout",
     "output_type": "stream",
     "text": [
      "Final amount after 10 years: €1628.89\n"
     ]
    }
   ],
   "source": [
    "def final_amount(P: float, r: float, t: float) -> float:\n",
    "    \"\"\" \n",
    "    Calculate the future value of an investment using compound interest.\n",
    "\n",
    "    Parameters:\n",
    "        P (float): Initial investment amount.\n",
    "        r (float): Annual interest rate as a decimal.\n",
    "        t (float): Time in years.\n",
    "\n",
    "    Returns:\n",
    "        float: Final amount after applying compound interest.\n",
    "    \"\"\"\n",
    "    return P * (1 + r) ** t\n",
    "\n",
    "P = 1000\n",
    "r = 0.05\n",
    "t = 10\n",
    "\n",
    "print(f\"Final amount after {t} years: €{final_amount(P, r, t):.2f}\")"
   ]
  },
  {
   "cell_type": "markdown",
   "id": "bd35930c",
   "metadata": {},
   "source": [
    "### Exercise 3\n",
    "Create a NumPy array of temperatures in Fahrenheit and convert all values to Celsius using the formula. Do this without using loops."
   ]
  },
  {
   "cell_type": "code",
   "execution_count": 11,
   "id": "df97755e",
   "metadata": {},
   "outputs": [
    {
     "name": "stdout",
     "output_type": "stream",
     "text": [
      "[  5.56  50.56 116.11   0.    43.89]\n"
     ]
    }
   ],
   "source": [
    "temperatures_fahrenheit = np.array([42, 123, 241, 32, 111])\n",
    "temperatures_celsius = np.round((temperatures_fahrenheit - 32) * 5 / 9, 2)\n",
    "print(temperatures_celsius)"
   ]
  },
  {
   "cell_type": "markdown",
   "id": "2dc90b5d",
   "metadata": {},
   "source": [
    "### Exercise 4\n",
    "Given a list of prices, use NumPy to calculate the standard deviation. Then determine whethere the prices have high variability based on the result."
   ]
  },
  {
   "cell_type": "code",
   "execution_count": 13,
   "id": "9f52c24b",
   "metadata": {},
   "outputs": [
    {
     "name": "stdout",
     "output_type": "stream",
     "text": [
      "4.55\n"
     ]
    }
   ],
   "source": [
    "prices = np.array([1.5, 2.7, 10.1, 12.1, 1.6])\n",
    "print(np.round(np.std(prices), 2))"
   ]
  },
  {
   "cell_type": "markdown",
   "id": "41d0b460-ffdb-4828-bb66-359929a1d598",
   "metadata": {},
   "source": [
    "The calculated standard deviation is 4.55, which is relatively high compared to the average price. This indicates a significant level of variability in the data. In other words, the prices are not tightly clustered around the mean, instead there are some values like 10.1 and 12.1 than deviate considerably, increasing the overall dispersion."
   ]
  },
  {
   "cell_type": "markdown",
   "id": "c49b83f6",
   "metadata": {},
   "source": [
    "### Exercise 5\n",
    "Define three variables representing distances (in km) traveled by three vehicles. Calculate the total distance and the average distance."
   ]
  },
  {
   "cell_type": "code",
   "execution_count": 18,
   "id": "13cfbf96",
   "metadata": {},
   "outputs": [
    {
     "name": "stdout",
     "output_type": "stream",
     "text": [
      "Total distance tavelled: 1606\n",
      "Average distance travelled: 535.33\n"
     ]
    }
   ],
   "source": [
    "first_distance = 58\n",
    "second_distance = 456\n",
    "third_distance = 1092\n",
    "array_distances = np.array([first_distance, second_distance, third_distance])\n",
    "\n",
    "print(f'Total distance tavelled: {np.sum(array_distances)}')\n",
    "print(f'Average distance travelled: {np.round(np.mean(array_distances), 2)}')"
   ]
  }
 ],
 "metadata": {
  "kernelspec": {
   "display_name": "Python 3 (ipykernel)",
   "language": "python",
   "name": "python3"
  },
  "language_info": {
   "codemirror_mode": {
    "name": "ipython",
    "version": 3
   },
   "file_extension": ".py",
   "mimetype": "text/x-python",
   "name": "python",
   "nbconvert_exporter": "python",
   "pygments_lexer": "ipython3",
   "version": "3.13.5"
  }
 },
 "nbformat": 4,
 "nbformat_minor": 5
}
